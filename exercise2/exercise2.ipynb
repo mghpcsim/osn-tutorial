{
 "cells": [
  {
   "cell_type": "markdown",
   "id": "f5349469-3a2a-41d6-b7d8-6137b2ebf9d1",
   "metadata": {},
   "source": [
    "# Example real world OSN use case\n",
    "\n",
    "From work funded by the National Oceanic and Atmospheric Administration's RESTORE Science Program under award NA19NOS4510194 and developed by Lisa Lowe @ NC State"
   ]
  },
  {
   "cell_type": "code",
   "execution_count": null,
   "id": "aadc7844-07cb-482e-9c00-5bdcf45d4cdc",
   "metadata": {},
   "outputs": [],
   "source": [
    "#import libraries\n",
    "import pandas as pd\n",
    "import matplotlib.pyplot as plt\n",
    "import folium"
   ]
  },
  {
   "cell_type": "markdown",
   "id": "00bf725a-e44b-42a3-8a5a-0463ef923566",
   "metadata": {},
   "source": [
    "## Download and Read Station Data\n",
    "\n",
    "\n",
    "Download a small CSV file that contains, at minimum,\n",
    "- `Station`\n",
    "- `Lat`\n",
    "- `Lon`\n",
    "\n"
   ]
  },
  {
   "cell_type": "code",
   "execution_count": null,
   "id": "aa38ef63",
   "metadata": {},
   "outputs": [],
   "source": [
    "!wget https://mghp.osn.xsede.org/cis220170-bucket01/mb_stations.csv"
   ]
  },
  {
   "cell_type": "code",
   "execution_count": null,
   "id": "b5a0831f",
   "metadata": {},
   "outputs": [],
   "source": [
    "#Read a CSV file that has 'Station', 'Lat', 'Lon'\n",
    "station_file = \"mb_stations.csv\"\n",
    "station_data = pd.read_csv(station_file)\n",
    "#Define an array of locations\n",
    "locations = station_data[['Lat', 'Lon']]\n",
    "locationlist = locations.values.tolist()"
   ]
  },
  {
   "cell_type": "markdown",
   "id": "2378af56-4627-4565-a064-00b79b7bbb58",
   "metadata": {},
   "source": [
    "## Map of our Study Area\n",
    "Define the bounding box for your study area"
   ]
  },
  {
   "cell_type": "code",
   "execution_count": null,
   "id": "bbdaac39-da18-4dd1-9616-e0624acda788",
   "metadata": {},
   "outputs": [],
   "source": [
    "## Define bounding box\n",
    "latmin = 30.10\n",
    "latmax = 30.96\n",
    "lonmin = -88.75\n",
    "lonmax = -87.4\n",
    "## Tooltip for box\n",
    "area_name = \"Mobile Bay\""
   ]
  },
  {
   "cell_type": "code",
   "execution_count": null,
   "id": "d28e5c0d-7dd3-40ba-9426-dc3ac578c7e6",
   "metadata": {},
   "outputs": [],
   "source": [
    "# Mobile Bay\n",
    "#Define the base map\n",
    "m = folium.Map(location=[30.50355, -87.98733], zoom_start=9)\n",
    "#For each station location, draw a popup, add to base map\n",
    "for point in range(0, len(locationlist)):\n",
    "    folium.Marker(locationlist[point], popup=station_data['Station'][point]).add_to(m)\n",
    "#Add a rectagle to the basemap\n",
    "folium.Rectangle(bounds=[(latmin, lonmin ), (latmax, lonmax )],\n",
    "                    fill=False,\n",
    "                    color='blue',\n",
    "                    tooltip=area_name\n",
    "                   ).add_to(m)\n",
    "#Draw the map\n",
    "m"
   ]
  },
  {
   "cell_type": "markdown",
   "id": "fd6df3f8-5fb0-46aa-b768-d9efa2c57100",
   "metadata": {},
   "source": [
    "## Download and plot station data\n"
   ]
  },
  {
   "cell_type": "code",
   "execution_count": null,
   "id": "8d3ca845",
   "metadata": {},
   "outputs": [],
   "source": [
    "!wget https://mghp.osn.xsede.org/cis220170-bucket01/MB6H.csv"
   ]
  },
  {
   "cell_type": "code",
   "execution_count": null,
   "id": "e97fb875-9c08-41e5-b72c-a01675039bf4",
   "metadata": {},
   "outputs": [],
   "source": [
    "#Choose the file\n",
    "data_file = \"MB6H.csv\"\n",
    "#Read the data\n",
    "df = pd.read_csv(data_file)\n",
    "#Clean up the date\n",
    "df['Date'] = pd.to_datetime(df['Date'])\n",
    "#Make a Time variable\n",
    "T = df['Date']\n",
    "#Take a look\n",
    "df.head()"
   ]
  },
  {
   "cell_type": "markdown",
   "id": "60d0335b-c2dd-412d-830f-a31a22a1fcc3",
   "metadata": {},
   "source": [
    "### The following plots model data of temperature and salinity at sea surface and bottom."
   ]
  },
  {
   "cell_type": "code",
   "execution_count": null,
   "id": "ec5ab27b-2994-4eb0-a3fe-78da7f100d65",
   "metadata": {},
   "outputs": [],
   "source": [
    "#Start the bounding box of the figure\n",
    "fig, ax = plt.subplots(figsize=(20, 5))\n",
    "#Add plots\n",
    "ax.plot(T,df['Tbot'],color=\"black\",label=\"Bottom Temperature\")\n",
    "ax.plot(T,df['Tsurf'],color=\"darkred\",label=\"Surface Temperature\")\n",
    "#Add the legend\n",
    "ax.legend(loc='upper left')"
   ]
  },
  {
   "cell_type": "code",
   "execution_count": null,
   "id": "089caae8-799f-44ee-8578-e7d946d147fe",
   "metadata": {},
   "outputs": [],
   "source": [
    "#Start the bounding box of the figure\n",
    "fig, ax = plt.subplots(figsize=(20, 5))\n",
    "#Add plots\n",
    "ax.plot(T,df['Ssurf'],color=\"darkred\",label=\"Surface Salinity\")\n",
    "ax.plot(T,df['Sbot'],color=\"black\",label=\"Bottom Salinity\")\n",
    "#Add the legend\n",
    "ax.legend(loc='upper left')"
   ]
  },
  {
   "cell_type": "markdown",
   "id": "ad40b26e-dd70-4c2b-b56c-2e66bb2b53e9",
   "metadata": {},
   "source": [
    "## Download another station data set"
   ]
  },
  {
   "cell_type": "code",
   "execution_count": null,
   "id": "b4793c4b",
   "metadata": {},
   "outputs": [],
   "source": [
    "!wget https://renc.osn.xsede.org/ees210015-bucket01/hydrodynamics/ROMS_TS_csvFiles/MS3C.csv\n"
   ]
  },
  {
   "cell_type": "code",
   "execution_count": null,
   "id": "e71c084e-2cef-44dc-ab7a-e316a41f5616",
   "metadata": {},
   "outputs": [],
   "source": [
    "#Choose the file\n",
    "data_file = \"MS3C.csv\"\n",
    "#Read the data\n",
    "df2 = pd.read_csv(data_file)\n",
    "#Clean up the date\n",
    "df2['Date'] = pd.to_datetime(df2['Date'])\n",
    "#Make a Time variable\n",
    "T = df2['Date']\n",
    "#Take a look\n",
    "df2.head()"
   ]
  },
  {
   "cell_type": "code",
   "execution_count": null,
   "id": "00af6630-2c54-444c-847e-501725259fd2",
   "metadata": {},
   "outputs": [],
   "source": [
    "#Start the bounding box of the figure\n",
    "fig, ax = plt.subplots(figsize=(20, 5))\n",
    "#Add plots\n",
    "ax.plot(T,df2['Tbot'],color=\"black\",label=\"Bottom Temperature\")\n",
    "ax.plot(T,df2['Tsurf'],color=\"darkred\",label=\"Surface Temperature\")\n",
    "#Add the legend\n",
    "ax.legend(loc='upper left')"
   ]
  },
  {
   "cell_type": "markdown",
   "id": "65b6e7de-d683-46db-b2ac-d63441f4e66c",
   "metadata": {},
   "source": [
    "## Plot the difference in bottom temperature between the two stations"
   ]
  },
  {
   "cell_type": "code",
   "execution_count": null,
   "id": "74452e1f-ac6e-4312-bcd4-74271a73cea0",
   "metadata": {},
   "outputs": [],
   "source": [
    "#Calculate difference\n",
    "df_diff = df['Tbot']-df2['Tbot']\n",
    "#Start the bounding box of the figure\n",
    "fig, ax = plt.subplots(figsize=(20, 5))\n",
    "#Add plots\n",
    "ax.plot(T,df_diff,color=\"black\",label=\"Bottom Temperature, MB6H - MS3C\")\n",
    "#Add the legend\n",
    "ax.legend(loc='upper left')"
   ]
  },
  {
   "cell_type": "code",
   "execution_count": null,
   "id": "89e71fb0",
   "metadata": {},
   "outputs": [],
   "source": []
  }
 ],
 "metadata": {
  "kernelspec": {
   "display_name": "Python 3 (ipykernel)",
   "language": "python",
   "name": "python3"
  },
  "language_info": {
   "codemirror_mode": {
    "name": "ipython",
    "version": 3
   },
   "file_extension": ".py",
   "mimetype": "text/x-python",
   "name": "python",
   "nbconvert_exporter": "python",
   "pygments_lexer": "ipython3",
   "version": "3.11.0"
  }
 },
 "nbformat": 4,
 "nbformat_minor": 5
}
